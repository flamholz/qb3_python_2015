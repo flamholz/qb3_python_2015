{
 "metadata": {
  "name": ""
 },
 "nbformat": 3,
 "nbformat_minor": 0,
 "worksheets": [
  {
   "cells": [
    {
     "cell_type": "code",
     "collapsed": false,
     "input": [
      "# Turn 'Humpty Dumpty sat on a wall' into ['Humpty','Dumpty','sat','on','a', 'wall']\n",
      "s = 'Humpty Dumpty sat on a wall' \n",
      "print s.split()\n",
      "\n",
      "# Turn 'Humpty Dumpty had a great fall' into ['Humpty Dumpty had a ', ' fall']\n",
      "s = 'Humpty Dumpty had a great fall'\n",
      "print s.split('great')\n",
      "\n",
      "# Turn \"All the King's horses\" into [\"All the King's hor\",'e','']\n",
      "# (note: there is still an \"s\" at the end of \"King's\")\n",
      "s = \"All the King's horses\"\n",
      "print s.rsplit('s', 2)\n",
      "\n",
      "# Turn \"and all the King's men\" into ['and a','',\" the King's men\"]\n",
      "# (note: there is a space at the beginning of \" the King's men\")\n",
      "s = \"and all the King's men\"\n",
      "print s.split('ll')\n",
      "\n",
      "# Turn \"couldn't put Humpty together again\" into 'again' (using one line)\n",
      "s = \"couldn't put Humpty together again\"\n",
      "print s.split()[-1]\n"
     ],
     "language": "python",
     "metadata": {},
     "outputs": [
      {
       "output_type": "stream",
       "stream": "stdout",
       "text": [
        "['Humpty', 'Dumpty', 'sat', 'on', 'a', 'wall']\n",
        "['Humpty Dumpty had a ', ' fall']\n",
        "[\"All the King's hor\", 'e', '']\n",
        "['and a', \" the King's men\"]\n",
        "again\n"
       ]
      }
     ],
     "prompt_number": 1
    },
    {
     "cell_type": "code",
     "collapsed": false,
     "input": [
      "# Turn ' Sara AishaEllahi Jeremy\\n' into Diana\\tDebbieThurtle\\tChris'\n",
      "s = ' Sara AishaEllahi Jeremy\\n'\n",
      "l = s.split()\n",
      "l[0] = 'Diana'\n",
      "l[1] = 'DebbieThurtle'\n",
      "l[2] = 'Chris'\n",
      "print '\\t'.join(l)  # Note that \\t prints as a tab.\n",
      "\n",
      "# Turn 'Sara,Aisha,James' into 'SARA\\tAISHA\\tJAMES\\t'\n",
      "s = 'Sara,Aisha,James'\n",
      "l = s.upper().split(',')\n",
      "print '\\t'.join(l)  # Again \\t prints as a tab."
     ],
     "language": "python",
     "metadata": {},
     "outputs": [
      {
       "output_type": "stream",
       "stream": "stdout",
       "text": [
        "Diana\tDebbieThurtle\tChris\n",
        "SARA\tAISHA\tJAMES\n"
       ]
      }
     ],
     "prompt_number": 2
    },
    {
     "cell_type": "code",
     "collapsed": false,
     "input": [
      "# Pairs of instructors. Option 1. \n",
      "# Example only with 3 names so the output is shorter.\n",
      "# Code will work with any number of names.\n",
      "names = 'Aisha, James, Gavin'\n",
      "names_l = names.split(', ')\n",
      "print 'Names: ', ', '.join(names_l)\n",
      "print\n",
      "\n",
      "pairs_filename = 'instructor_pairs.txt'\n",
      "fh = open(pairs_filename, 'w')\n",
      "# option 1: generate all pairs in a loop. \n",
      "for name_a in names_l:\n",
      "    for name_b in names_l:\n",
      "        line = '%s, %s\\n' % (name_a, name_b)\n",
      "        fh.write(line)\n",
      "        fh.write('-----------------\\n')\n",
      "fh.close()\n",
      "\n",
      "# Note that this will contain pairs like (James, James)\n",
      "# which have two of the same name. It will also include\n",
      "# both ('Aisha', 'James') and ('James', 'Aisha') even \n",
      "# those are really the same pair of people. Can you figure out\n",
      "# how to exclude those ones from the list? \n",
      "\n",
      "# Open the file and print its contents to check ourselves. \n",
      "fh = open(pairs_filename)\n",
      "print fh.read()\n",
      "fh.close()"
     ],
     "language": "python",
     "metadata": {},
     "outputs": [
      {
       "output_type": "stream",
       "stream": "stdout",
       "text": [
        "Names:  Aisha, James, Gavin\n",
        "\n",
        "Aisha, Aisha\n",
        "-----------------\n",
        "Aisha, James\n",
        "-----------------\n",
        "Aisha, Gavin\n",
        "-----------------\n",
        "James, Aisha\n",
        "-----------------\n",
        "James, James\n",
        "-----------------\n",
        "James, Gavin\n",
        "-----------------\n",
        "Gavin, Aisha\n",
        "-----------------\n",
        "Gavin, James\n",
        "-----------------\n",
        "Gavin, Gavin\n",
        "-----------------\n",
        "\n"
       ]
      }
     ],
     "prompt_number": 3
    },
    {
     "cell_type": "code",
     "collapsed": false,
     "input": [
      "# Pairs of instructors. Option 2: use the itertools library.\n",
      "# I won't read/write from a file here because you can see the\n",
      "# code for that above.\n",
      "import itertools\n",
      "\n",
      "# Use the 'product' function, which mimicks what we did with the \n",
      "# nested for loop above - all possible pairs.\n",
      "print 'Using itertools.product'\n",
      "combinations = itertools.product(names_l, repeat=2)\n",
      "for name_a, name_b in combinations:\n",
      "    print name_a, name_b\n",
      "    print '-----------------'\n",
      "print"
     ],
     "language": "python",
     "metadata": {},
     "outputs": [
      {
       "output_type": "stream",
       "stream": "stdout",
       "text": [
        "Using itertools.product\n",
        "Aisha Aisha\n",
        "-----------------\n",
        "Aisha James\n",
        "-----------------\n",
        "Aisha Gavin\n",
        "-----------------\n",
        "James Aisha\n",
        "-----------------\n",
        "James James\n",
        "-----------------\n",
        "James Gavin\n",
        "-----------------\n",
        "Gavin Aisha\n",
        "-----------------\n",
        "Gavin James\n",
        "-----------------\n",
        "Gavin Gavin\n",
        "-----------------\n",
        "\n"
       ]
      }
     ],
     "prompt_number": 4
    },
    {
     "cell_type": "code",
     "collapsed": false,
     "input": [
      "# Option 2': use itertools.combinations_with_replacement\n",
      "import itertools\n",
      "\n",
      "# Notice that itertools.combinations_with_replacement gives us all \n",
      "# possible pairs, but it doesn't repeat pairs that are symmetric.\n",
      "# That is, it gives us only one of ('Aisha', 'James') and ('James', 'Aisha')\n",
      "# but does not give us both of them. This can be useful sometimes.\n",
      "print 'Using itertools.combinations_with_replacement'\n",
      "combinations = itertools.combinations_with_replacement(names_l, 2)\n",
      "for name_a, name_b in combinations:\n",
      "    print name_a, name_b\n",
      "    print '-----------------'\n",
      "print"
     ],
     "language": "python",
     "metadata": {},
     "outputs": [
      {
       "output_type": "stream",
       "stream": "stdout",
       "text": [
        "Using itertools.combinations_with_replacement\n",
        "Aisha Aisha\n",
        "-----------------\n",
        "Aisha James\n",
        "-----------------\n",
        "Aisha Gavin\n",
        "-----------------\n",
        "James James\n",
        "-----------------\n",
        "James Gavin\n",
        "-----------------\n",
        "Gavin Gavin\n",
        "-----------------\n",
        "\n"
       ]
      }
     ],
     "prompt_number": 5
    },
    {
     "cell_type": "code",
     "collapsed": false,
     "input": [
      "# Option 2': use itertools.combinations\n",
      "import itertools\n",
      "\n",
      "# Notice that itertools.combinations gives us all possible pairs, \n",
      "# but it excludes those pairs which are doubles of the same name\n",
      "# like ('Aisha', 'Aisha'). This can also be very useful. \n",
      "print 'Using itertools.combinations_with_replacement'\n",
      "combinations = itertools.combinations(names_l, 2)\n",
      "for name_a, name_b in combinations:\n",
      "    print name_a, name_b\n",
      "    print '-----------------'\n",
      "print "
     ],
     "language": "python",
     "metadata": {},
     "outputs": [
      {
       "output_type": "stream",
       "stream": "stdout",
       "text": [
        "Using itertools.combinations_with_replacement\n",
        "Aisha James\n",
        "-----------------\n",
        "Aisha Gavin\n",
        "-----------------\n",
        "James Gavin\n",
        "-----------------\n",
        "\n"
       ]
      }
     ],
     "prompt_number": 6
    },
    {
     "cell_type": "code",
     "collapsed": false,
     "input": [
      "# Reopen the last output file, and read in the file, then write the\n",
      "# lines back out (to a new file) in reverse order, in all capital letters.\n",
      "\n",
      "pairs_filename = 'instructor_pairs.txt'\n",
      "fh = open(pairs_filename)\n",
      "upper_lines = [line.upper() for line in fh]\n",
      "upper_lines.reverse()\n",
      "fh.close()\n",
      "\n",
      "reverse_filename = 'reverse_instructor_pairs.txt'\n",
      "fh = open(reverse_filename, 'w')\n",
      "fh.writelines(upper_lines)\n",
      "fh.close()\n",
      "\n",
      "# Open the file and print its contents to check ourselves. \n",
      "fh = open(reverse_filename)\n",
      "print fh.read()\n",
      "fh.close()"
     ],
     "language": "python",
     "metadata": {},
     "outputs": [
      {
       "output_type": "stream",
       "stream": "stdout",
       "text": [
        "-----------------\n",
        "GAVIN, GAVIN\n",
        "-----------------\n",
        "GAVIN, JAMES\n",
        "-----------------\n",
        "GAVIN, AISHA\n",
        "-----------------\n",
        "JAMES, GAVIN\n",
        "-----------------\n",
        "JAMES, JAMES\n",
        "-----------------\n",
        "JAMES, AISHA\n",
        "-----------------\n",
        "AISHA, GAVIN\n",
        "-----------------\n",
        "AISHA, JAMES\n",
        "-----------------\n",
        "AISHA, AISHA\n",
        "\n"
       ]
      }
     ],
     "prompt_number": 7
    },
    {
     "cell_type": "code",
     "collapsed": false,
     "input": [
      "# Advanced file opening. Using the 'with' keyword. \n",
      "reverse_filename = 'reverse_instructor_pairs.txt'\n",
      "with open(reverse_filename) as fh:\n",
      "    data = fh.read()\n",
      "# File is automatically closed when 'with' clause ends.\n",
      "# No need for calling fh.close().\n",
      "print data"
     ],
     "language": "python",
     "metadata": {},
     "outputs": [
      {
       "output_type": "stream",
       "stream": "stdout",
       "text": [
        "-----------------\n",
        "GAVIN, GAVIN\n",
        "-----------------\n",
        "GAVIN, JAMES\n",
        "-----------------\n",
        "GAVIN, AISHA\n",
        "-----------------\n",
        "JAMES, GAVIN\n",
        "-----------------\n",
        "JAMES, JAMES\n",
        "-----------------\n",
        "JAMES, AISHA\n",
        "-----------------\n",
        "AISHA, GAVIN\n",
        "-----------------\n",
        "AISHA, JAMES\n",
        "-----------------\n",
        "AISHA, AISHA\n",
        "\n"
       ]
      }
     ],
     "prompt_number": 8
    },
    {
     "cell_type": "code",
     "collapsed": false,
     "input": [
      "# You can use the 'with' clause for writing too.\n",
      "test_data = \"\"\"Tiger Tiger. burning bright,\n",
      "In the forests of the night;\n",
      "What immortal hand or eye.\n",
      "Could frame thy fearful symmetry?\"\"\"\n",
      "fname = 'william_blake.txt'\n",
      "with open(fname, 'w') as outf:\n",
      "    outf.write(test_data)\n",
      "    \n",
      "with open(fname) as inf:\n",
      "    print inf.read()"
     ],
     "language": "python",
     "metadata": {},
     "outputs": [
      {
       "output_type": "stream",
       "stream": "stdout",
       "text": [
        "Tiger Tiger. burning bright,\n",
        "In the forests of the night;\n",
        "What immortal hand or eye.\n",
        "Could frame thy fearful symmetry?\n"
       ]
      }
     ],
     "prompt_number": 9
    },
    {
     "cell_type": "code",
     "collapsed": false,
     "input": [
      "# Parse fasta.\n",
      "fasta_fname = 'seq.fasta'\n",
      "current_key = None\n",
      "current_seq = []\n",
      "fasta_dict = {}\n",
      "with open(fasta_fname) as fastaf:    \n",
      "    for line in fastaf:\n",
      "        # If we encounter '>' then we've hit a new sequence.\n",
      "        if line.startswith('>'):\n",
      "            # If we've been accumulating data, save it.\n",
      "            if current_key is not None:\n",
      "                fasta_dict[current_key] = ''.join(current_seq)\n",
      "                \n",
      "            # The key is the current line stripped of\n",
      "            # newlines and the '>' character.\n",
      "            current_key = line.strip().strip('>')\n",
      "            current_seq = []  # Reset the list for accumulating sequence.\n",
      "        else:\n",
      "            # Not a new sequence name, so just accumulate the current sequence.\n",
      "            current_seq.append(line.strip())\n",
      "# File is now closed. \n",
      "print fasta_dict        "
     ],
     "language": "python",
     "metadata": {},
     "outputs": [
      {
       "output_type": "stream",
       "stream": "stdout",
       "text": [
        "{'gene1': 'ATGAGACGTAGTGCCAGTAGCGCGATGTAGCGATGACGCATGACGCGCGACGCGCGAGTGAGCCATACGCACGCATTGGCA', 'gene2': 'ATGTTCGACGCATACGACGCGCAGTACCAGCAATGACGCACCGGGATACACGACGCGGATTTTTACGCACCGAGATAGCATAAAAGACCATTAG'}\n"
       ]
      }
     ],
     "prompt_number": 10
    },
    {
     "cell_type": "code",
     "collapsed": false,
     "input": [],
     "language": "python",
     "metadata": {},
     "outputs": []
    }
   ],
   "metadata": {}
  }
 ]
}