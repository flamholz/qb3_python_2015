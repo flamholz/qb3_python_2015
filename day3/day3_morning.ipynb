{
 "metadata": {
  "name": ""
 },
 "nbformat": 3,
 "nbformat_minor": 0,
 "worksheets": [
  {
   "cells": [
    {
     "cell_type": "code",
     "collapsed": false,
     "input": [
      "genes_data = {'Human': {'TallnessGene': 'AATAGCAG',\n",
      "                        'SmartnessGene': 'TGACGGA'},\n",
      "              'Mouse': {'FuzzynessGene': 'CCCCCCA',\n",
      "                        'BeadyLittleEyesGene': 'ATAGCGC'},\n",
      "              'Rat': {'FuzzynessGene': 'CCCTCCA',\n",
      "                      'BiggerThanMouseGene': 'GGACAATT'}}\n",
      "\n",
      "print 'Human gene names:'\n",
      "print genes_data['Human'].keys()\n",
      "print\n",
      "print 'Mouse FuzzynessGene sequence:'\n",
      "print genes_data['Mouse']['FuzzynessGene']\n",
      "print \n",
      "print '3rd nucleotide of Human TallnessGene'\n",
      "print genes_data['Human']['TallnessGene'][2]"
     ],
     "language": "python",
     "metadata": {},
     "outputs": [
      {
       "output_type": "stream",
       "stream": "stdout",
       "text": [
        "Human gene names:\n",
        "['TallnessGene', 'SmartnessGene']\n",
        "\n",
        "Mouse FuzzynessGene sequence:\n",
        "CCCCCCA\n",
        "\n",
        "3rd nucleotide of Human TallnessGene\n",
        "T\n"
       ]
      }
     ],
     "prompt_number": 1
    },
    {
     "cell_type": "code",
     "collapsed": false,
     "input": [
      "# List of lists, option 1. \n",
      "names = ['run1', 'run2', 'run3']\n",
      "l = []\n",
      "for _ in range(3): l.append([])\n",
      "    \n",
      "# run1 data\n",
      "l[0].append(2)\n",
      "l[0].append(3)\n",
      "l[0].append(5)\n",
      "l[0].append(5)\n",
      "\n",
      "# run2 data\n",
      "l[1].append(2)\n",
      "l[1].append(2)\n",
      "l[1].append(4)\n",
      "l[1].append(5)\n",
      "\n",
      "# run3 data\n",
      "l[2].append(3)\n",
      "l[2].append(3)\n",
      "l[2].append(4)\n",
      "l[2].append(6)\n",
      "\n",
      "print l"
     ],
     "language": "python",
     "metadata": {},
     "outputs": [
      {
       "output_type": "stream",
       "stream": "stdout",
       "text": [
        "[[2, 3, 5, 5], [2, 2, 4, 5], [3, 3, 4, 6]]\n"
       ]
      }
     ],
     "prompt_number": 2
    },
    {
     "cell_type": "code",
     "collapsed": false,
     "input": [
      "# List of lists, option 1.5. Use extend() instead of append().\n",
      "# extend adds an entire list to the end of another list. \n",
      "names = ['run1', 'run2', 'run3']\n",
      "l = []\n",
      "for _ in range(3): l.append([])\n",
      "    \n",
      "# run1 data\n",
      "l[0].extend([2, 3, 5, 5])\n",
      "\n",
      "# run2 data\n",
      "l[1].extend([2, 2, 4, 5])\n",
      "\n",
      "# run3 data\n",
      "l[2].append([3, 3, 4, 6])\n",
      "\n",
      "print l"
     ],
     "language": "python",
     "metadata": {},
     "outputs": [
      {
       "output_type": "stream",
       "stream": "stdout",
       "text": [
        "[[2, 3, 5, 5], [2, 2, 4, 5], [[3, 3, 4, 6]]]\n"
       ]
      }
     ],
     "prompt_number": 3
    },
    {
     "cell_type": "code",
     "collapsed": false,
     "input": [
      "# List of lists, option 2. \n",
      "names = ['run1', 'run2', 'run3']\n",
      "l = [[], [], []]  # Make list of lists inline\n",
      "    \n",
      "# run1 data\n",
      "l[0].append(2)\n",
      "l[0].append(3)\n",
      "l[0].append(5)\n",
      "l[0].append(5)\n",
      "\n",
      "# run2 data\n",
      "l[1].append(2)\n",
      "l[1].append(2)\n",
      "l[1].append(4)\n",
      "l[1].append(5)\n",
      "\n",
      "# run3 data\n",
      "l[2].append(3)\n",
      "l[2].append(3)\n",
      "l[2].append(4)\n",
      "l[2].append(6)\n",
      "\n",
      "print l"
     ],
     "language": "python",
     "metadata": {},
     "outputs": [
      {
       "output_type": "stream",
       "stream": "stdout",
       "text": [
        "[[2, 3, 5, 5], [2, 2, 4, 5], [3, 3, 4, 6]]\n"
       ]
      }
     ],
     "prompt_number": 4
    },
    {
     "cell_type": "code",
     "collapsed": false,
     "input": [
      "# List of lists, option 3.\n",
      "names = ['run1', 'run2', 'run3']\n",
      "# Make list of lists inline\n",
      "l = [[2, 3, 5, 5], [2, 2, 4, 5], [3, 3, 4, 6]]  \n",
      "\n",
      "# Look at the very bottom of this page for an even more\n",
      "# advanced solution at the very bottom of this page."
     ],
     "language": "python",
     "metadata": {},
     "outputs": [],
     "prompt_number": 5
    },
    {
     "cell_type": "code",
     "collapsed": false,
     "input": [
      "# Dictionary of lists. Using append to make the dictionary of lists.\n",
      "d_of_l = {}\n",
      "d_of_l['Human'] = []\n",
      "d_of_l['Human'].append(5)\n",
      "d_of_l['Human'].append(4)\n",
      "d_of_l['Human'].append(6)\n",
      "d_of_l['Human'].append(7)\n",
      "d_of_l['Mouse'] = []\n",
      "d_of_l['Mouse'].append(8)\n",
      "d_of_l['Mouse'].append(12)\n",
      "d_of_l['Mouse'].append(11)\n",
      "d_of_l['Mouse'].append(14)\n",
      "d_of_l['Rat'] = []\n",
      "d_of_l['Rat'].append(10)\n",
      "d_of_l['Rat'].append(11)\n",
      "d_of_l['Rat'].append(13)\n",
      "d_of_l['Rat'].append(15)\n",
      "print d_of_l"
     ],
     "language": "python",
     "metadata": {},
     "outputs": [
      {
       "output_type": "stream",
       "stream": "stdout",
       "text": [
        "{'Rat': [10, 11, 13, 15], 'Mouse': [8, 12, 11, 14], 'Human': [5, 4, 6, 7]}\n"
       ]
      }
     ],
     "prompt_number": 6
    },
    {
     "cell_type": "code",
     "collapsed": false,
     "input": [
      "# Dictionary of lists. Using extend to make the dictionary of lists.\n",
      "d_of_l = {}\n",
      "d_of_l['Human'] = []\n",
      "d_of_l['Human'].extend([5,4,6,7])\n",
      "d_of_l['Mouse'] = []\n",
      "d_of_l['Mouse'].extend([8,12,11,14])\n",
      "d_of_l['Rat'] = []\n",
      "d_of_l['Rat'].extend([10,11,13,15])\n",
      "print d_of_l"
     ],
     "language": "python",
     "metadata": {},
     "outputs": [
      {
       "output_type": "stream",
       "stream": "stdout",
       "text": [
        "{'Rat': [10, 11, 13, 15], 'Mouse': [8, 12, 11, 14], 'Human': [5, 4, 6, 7]}\n"
       ]
      }
     ],
     "prompt_number": 7
    },
    {
     "cell_type": "code",
     "collapsed": false,
     "input": [
      "# Dictionary of lists. Using setdefault() to get uninitialized dictionary keys.\n",
      "d_of_l = {}\n",
      "# dictionary.setdefault(key, default_value) returns the value for the key. If \n",
      "# the key is not yet in the dictionary, it sets the value for that key to the\n",
      "# default and also returns the default value.  \n",
      "d_of_l.setdefault('Human', []).extend([5,4,6,7])\n",
      "d_of_l.setdefault('Mouse', []).extend([8,12,11,14])\n",
      "d_of_l.setdefault('Rat', []).extend([10,11,13,15])\n",
      "print d_of_l"
     ],
     "language": "python",
     "metadata": {},
     "outputs": [
      {
       "output_type": "stream",
       "stream": "stdout",
       "text": [
        "{'Rat': [10, 11, 13, 15], 'Mouse': [8, 12, 11, 14], 'Human': [5, 4, 6, 7]}\n"
       ]
      }
     ],
     "prompt_number": 8
    },
    {
     "cell_type": "code",
     "collapsed": false,
     "input": [
      "# Dictionary of lists. All in one dictionary construction.\n",
      "# This is clearly the best way to make this dictionary.\n",
      "# But you might find yourself using list.extend() and \n",
      "# dictionary.setdefault() in other scenarios. \n",
      "d_of_l = {'Human': [5,4,6,7],\n",
      "          'Mouse': [8,12,11,14],\n",
      "          'Rat': [10,11,13,15]}\n",
      "print d_of_l"
     ],
     "language": "python",
     "metadata": {},
     "outputs": [
      {
       "output_type": "stream",
       "stream": "stdout",
       "text": [
        "{'Rat': [10, 11, 13, 15], 'Mouse': [8, 12, 11, 14], 'Human': [5, 4, 6, 7]}\n"
       ]
      }
     ],
     "prompt_number": 9
    },
    {
     "cell_type": "code",
     "collapsed": false,
     "input": [
      "run1 = [2,3,5,5]\n",
      "run2 = [2,2,4,5]\n",
      "run3 = [3,3,4,6]\n",
      "listOfRuns = [run1, run2, run3]\n",
      "\n",
      "print listOfRuns\n",
      "run1[0] = 102\n",
      "print listOfRuns\n",
      "\n",
      "# Notice how listOfRuns is changed even though I did not modify it directly.\n",
      "# This is because listOfRuns is actually made up of a references to run1, \n",
      "# run2 and run3 respectively. Maybe this diagram will help understand:\n",
      "# listOfRuns = [ position 0 ----> run1 list,\n",
      "#                position 1 ----> run2 list,\n",
      "#                position 2 ----> run3 list]"
     ],
     "language": "python",
     "metadata": {},
     "outputs": [
      {
       "output_type": "stream",
       "stream": "stdout",
       "text": [
        "[[2, 3, 5, 5], [2, 2, 4, 5], [3, 3, 4, 6]]\n",
        "[[102, 3, 5, 5], [2, 2, 4, 5], [3, 3, 4, 6]]\n"
       ]
      }
     ],
     "prompt_number": 10
    },
    {
     "cell_type": "code",
     "collapsed": false,
     "input": [
      "run1 = [2,3,5,5]\n",
      "run2 = [2,2,4,5]\n",
      "run3 = [3,3,4,6]\n",
      "\n",
      "# Remember that list[:] copies the list. \n",
      "# So we remake listOfRuns using copies\n",
      "listOfRuns = [run1[:], run2[:], run3[:]]\n",
      "\n",
      "print listOfRuns\n",
      "run1[0] = 102\n",
      "print listOfRuns\n",
      "\n",
      "# Since listOfRuns now contains copies of run1, run2 and run3,\n",
      "# modifying run1 doesn't alter listOfRuns. Now the diagram looks\n",
      "# like this. \n",
      "# listOfRuns = [ position 0 ----> separate copy of run1 list,\n",
      "#                position 1 ----> separate copy of run2 list,\n",
      "#                position 2 ----> separate copy of run3 list]"
     ],
     "language": "python",
     "metadata": {},
     "outputs": [
      {
       "output_type": "stream",
       "stream": "stdout",
       "text": [
        "[[2, 3, 5, 5], [2, 2, 4, 5], [3, 3, 4, 6]]\n",
        "[[2, 3, 5, 5], [2, 2, 4, 5], [3, 3, 4, 6]]\n"
       ]
      }
     ],
     "prompt_number": 11
    },
    {
     "cell_type": "code",
     "collapsed": false,
     "input": [
      "one_empty_list = []\n",
      "three_empty_l = [one_empty_list]*3\n",
      "print three_empty_l\n",
      "\n",
      "three_empty_l[0].append('I belong first!')\n",
      "print three_empty_l\n",
      "\n",
      "# Notice how three_empty_l now contains the same list ['I belong first!'] \n",
      "# three times, even though we only modified the first element in is three_empty_l. \n",
      "# Maybe this diagram will help understand what the multiplication of lists does.\n",
      "# one_empty_list = []\n",
      "# listOfRuns = [ position 0 ----> one_empty_list,\n",
      "#                position 1 ----> one_empty_list,\n",
      "#                position 2 ----> one_empty_list]"
     ],
     "language": "python",
     "metadata": {},
     "outputs": [
      {
       "output_type": "stream",
       "stream": "stdout",
       "text": [
        "[[], [], []]\n",
        "[['I belong first!'], ['I belong first!'], ['I belong first!']]\n"
       ]
      }
     ],
     "prompt_number": 12
    },
    {
     "cell_type": "code",
     "collapsed": false,
     "input": [
      "# List of lists - ultra advanced.\n",
      "# Here we will use a package called pandas that was designed for \n",
      "# time series and tabular data. This is highly recommended if you \n",
      "# have a big spreadsheet that you want to work with in python.\n",
      "# Here is an intro to pandas:\n",
      "#   http://pandas.pydata.org/pandas-docs/stable/10min.html\n",
      "\n",
      "import pandas\n",
      "\n",
      "# Data with names can be stored in a dictionary. \n",
      "# This is somewhat better than a list since we keep the names of \n",
      "# the runs together with the data itself.\n",
      "data = {'run1': [2, 3, 5, 5],\n",
      "        'run2': [2, 2, 4, 5],\n",
      "        'run3': [3, 3, 4, 6],\n",
      "        'time_hours': [0, 12, 24, 32]}  # Time series was every 12 hours.\n",
      "\n",
      "# Pandas DataFrame object is even better than a dictionary for this kind of \n",
      "# data because you can keep the data and the names in the same place \n",
      "# and also do data analysis using pandas built-in functions. \n",
      "df = pandas.DataFrame(data)\n",
      "print df\n",
      "\n",
      "# Can get data for only run3 just like a dictionary.\n",
      "print 'run3 data'\n",
      "print df['run3']\n",
      "\n",
      "# Can also get it in a nicer way.\n",
      "print df.run3\n",
      "\n",
      "# Notice that printing run3 didn't also print the time. But you'd like\n",
      "# the time to be associated with the data for all the runs because \n",
      "# you took the same time points for each run. Using DataFrames you can\n",
      "# do this by setting the time as the 'index' which indicates that the \n",
      "# time is shared by all values in the same row. \n",
      "df_with_index = df.set_index('time_hours')\n",
      "\n",
      "# Notice now that the time_hours data is printed with the run3 data.\n",
      "print df_with_index.run3\n",
      "\n",
      "# You average value for each run across timepoints.\n",
      "print df_with_index.mean()\n",
      "\n",
      "# You can specify the axis=0 for taking the average down the columns,\n",
      "# which means here taking the average value for each run (as above).\n",
      "print df_with_index.mean(axis=0)\n",
      "\n",
      "# You also take the average value for all runs at each timepoint.\n",
      "print df_with_index.mean(axis=1)"
     ],
     "language": "python",
     "metadata": {},
     "outputs": [
      {
       "output_type": "stream",
       "stream": "stdout",
       "text": [
        "   run1  run2  run3  time_hours\n",
        "0     2     2     3           0\n",
        "1     3     2     3          12\n",
        "2     5     4     4          24\n",
        "3     5     5     6          32\n",
        "run3 data\n",
        "0    3\n",
        "1    3\n",
        "2    4\n",
        "3    6\n",
        "Name: run3, dtype: int64\n",
        "0    3\n",
        "1    3\n",
        "2    4\n",
        "3    6\n",
        "Name: run3, dtype: int64\n",
        "time_hours\n",
        "0             3\n",
        "12            3\n",
        "24            4\n",
        "32            6\n",
        "Name: run3, dtype: int64\n",
        "run1    3.75\n",
        "run2    3.25\n",
        "run3    4.00\n",
        "dtype: float64\n",
        "run1    3.75\n",
        "run2    3.25\n",
        "run3    4.00\n",
        "dtype: float64\n",
        "time_hours\n",
        "0             2.333333\n",
        "12            2.666667\n",
        "24            4.333333\n",
        "32            5.333333\n",
        "dtype: float64\n"
       ]
      }
     ],
     "prompt_number": 13
    },
    {
     "cell_type": "code",
     "collapsed": false,
     "input": [],
     "language": "python",
     "metadata": {},
     "outputs": []
    }
   ],
   "metadata": {}
  }
 ]
}