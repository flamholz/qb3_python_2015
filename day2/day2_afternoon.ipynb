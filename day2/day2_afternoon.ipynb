{
 "metadata": {
  "name": ""
 },
 "nbformat": 3,
 "nbformat_minor": 0,
 "worksheets": [
  {
   "cells": [
    {
     "cell_type": "code",
     "collapsed": false,
     "input": [
      "# Empty string evaluates to false.\n",
      "query = ''\n",
      "if query:\n",
      "    print '\"%s\" evaluates to True' % query\n",
      "else:\n",
      "    print '\"%s\" evaluates to False' % query"
     ],
     "language": "python",
     "metadata": {},
     "outputs": [
      {
       "output_type": "stream",
       "stream": "stdout",
       "text": [
        "\"\" evaluates to False\n"
       ]
      }
     ],
     "prompt_number": 1
    },
    {
     "cell_type": "code",
     "collapsed": false,
     "input": [
      "# Fancier version that puts together a bunch of skills we covered.\n",
      "# Notice that I am using a tuple here because we don't intend to change\n",
      "# these items later - i.e. it is immutable data.\n",
      "queries = (\"\", 0, 1, -20, \"abcd\", \"Avi\", False, True,\n",
      "           [], [1,2,3], [0],\n",
      "           [0][0],  # evaluates to 0 which evaluates to False\n",
      "           [[]][0], # evaluates to [] which evaluates to False\n",
      "           [[1]][0], # evaluates to [1] which evaluates to True\n",
      "           (1, 'b'), (), # empty tuple\n",
      "           {'a':1, 'b':2}, {})\n",
      "\n",
      "# Test all of the queries.\n",
      "for query in queries:\n",
      "    if query:\n",
      "        print '\"%s\" evaluates to True' % str(query)\n",
      "    else:\n",
      "        print '\"%s\" evaluates to False' % str(query)"
     ],
     "language": "python",
     "metadata": {},
     "outputs": [
      {
       "output_type": "stream",
       "stream": "stdout",
       "text": [
        "\"\" evaluates to False\n",
        "\"0\" evaluates to False\n",
        "\"1\" evaluates to True\n",
        "\"-20\" evaluates to True\n",
        "\"abcd\" evaluates to True\n",
        "\"Avi\" evaluates to True\n",
        "\"False\" evaluates to False\n",
        "\"True\" evaluates to True\n",
        "\"[]\" evaluates to False\n",
        "\"[1, 2, 3]\" evaluates to True\n",
        "\"[0]\" evaluates to True\n",
        "\"0\" evaluates to False\n",
        "\"[]\" evaluates to False\n",
        "\"[1]\" evaluates to True\n",
        "\"(1, 'b')\" evaluates to True\n",
        "\"()\" evaluates to False\n",
        "\"{'a': 1, 'b': 2}\" evaluates to True\n",
        "\"{}\" evaluates to False\n"
       ]
      }
     ],
     "prompt_number": 2
    },
    {
     "cell_type": "code",
     "collapsed": false,
     "input": [
      "# Because it's hard to show user input in this format, \n",
      "# I made a list of example strings that test the idea. \n",
      "# Modify these strings to change the input.\n",
      "test_sequences = ['TACGTC',     # 6 bases\n",
      "                  'TATATGG',    # 7, too long.\n",
      "                  'ATGTAGGAGG', # 7 with ATG,\n",
      "                  'ATGGGA',     # 6 with ATG\n",
      "                  'QATGLY',     # 6 with ATG contains non-DNA letters.\n",
      "                  'ATG',        # ATG, too short. \n",
      "                  ]     \n",
      "\n",
      "for seq in test_sequences:\n",
      "    print # prints an empty line\n",
      "    print 'Sequence \"%s\"', seq\n",
      "    \n",
      "    if len(seq) != 6:\n",
      "        print '%s is not 6 nucleotides long. Moving on.' % seq\n",
      "        continue   # Advanced! Moves on to the next sequence in the list.\n",
      "    \n",
      "    # Here we know that the sequence is 6 bases long.\n",
      "    print '%s is 6 nucleotides long.' % seq\n",
      "    print 'Index of ATG in %s is %d' % (seq, seq.find('ATG'))\n",
      "    # Notice that string.find() returns -1 when it can't find the string. Cute, huh?"
     ],
     "language": "python",
     "metadata": {},
     "outputs": [
      {
       "output_type": "stream",
       "stream": "stdout",
       "text": [
        "\n",
        "Sequence \"%s\" TACGTC\n",
        "TACGTC is 6 nucleotides long.\n",
        "Index of ATG in TACGTC is -1\n",
        "\n",
        "Sequence \"%s\" TATATGG\n",
        "TATATGG is not 6 nucleotides long. Moving on.\n",
        "\n",
        "Sequence \"%s\" ATGTAGGAGG\n",
        "ATGTAGGAGG is not 6 nucleotides long. Moving on.\n",
        "\n",
        "Sequence \"%s\" ATGGGA\n",
        "ATGGGA is 6 nucleotides long.\n",
        "Index of ATG in ATGGGA is 0\n",
        "\n",
        "Sequence \"%s\" QATGLY\n",
        "QATGLY is 6 nucleotides long.\n",
        "Index of ATG in QATGLY is 1\n",
        "\n",
        "Sequence \"%s\" ATG\n",
        "ATG is not 6 nucleotides long. Moving on.\n"
       ]
      }
     ],
     "prompt_number": 3
    },
    {
     "cell_type": "code",
     "collapsed": false,
     "input": [
      "# Assuming you have the input as a list all together. \n",
      "gene_data = ['gene1', 'ATAGCAGTTAGCTTAGCAGCAGTTATAGCGCA',\n",
      "             'gene2', 'ATGAATGTGCCTCGAGTC',\n",
      "             'gene3', 'ATGAATGGGCGGTAGTCTGAC']\n",
      "\n",
      "# Hardcoded indexing into the list of gene data\n",
      "sequence_dict = {gene_data[0]: gene_data[1],\n",
      "                 gene_data[2]: gene_data[3],\n",
      "                 gene_data[4]: gene_data[5]}\n",
      "print sequence_dict\n",
      "\n",
      "# Another way: use the range function to get indices\n",
      "# skipping every other one.\n",
      "sequence_dict = {}\n",
      "for i in range(0, len(gene_data), 2):\n",
      "    name = gene_data[i]\n",
      "    seq = gene_data[i+1]\n",
      "    sequence_dict[name] = seq\n",
      "print sequence_dict\n",
      "\n",
      "# Another way: use a list comprehension with range.\n",
      "tuples = [(gene_data[i], gene_data[i+1]) for i in range(0, len(gene_data), 2)]\n",
      "sequence_dict = dict(tuples)  # You can make a dict from a list of tuples like this\n",
      "print sequence_dict\n",
      "\n",
      "# Another way: use slicing.\n",
      "gene_names = gene_data[0::2]  # Start at 0, skip every other. \n",
      "gene_seqs = gene_data[1::2]   # Start at 1, skip every other.\n",
      "tuples = zip(gene_names, gene_seqs)   # Zips up the names and sequences to a list of tuples\n",
      "\n",
      "print\n",
      "print 'Tuples', tuples\n",
      "sequence_dict = dict(tuples)\n",
      "print sequence_dict"
     ],
     "language": "python",
     "metadata": {},
     "outputs": [
      {
       "output_type": "stream",
       "stream": "stdout",
       "text": [
        "{'gene1': 'ATAGCAGTTAGCTTAGCAGCAGTTATAGCGCA', 'gene2': 'ATGAATGTGCCTCGAGTC', 'gene3': 'ATGAATGGGCGGTAGTCTGAC'}\n",
        "{'gene1': 'ATAGCAGTTAGCTTAGCAGCAGTTATAGCGCA', 'gene2': 'ATGAATGTGCCTCGAGTC', 'gene3': 'ATGAATGGGCGGTAGTCTGAC'}\n",
        "{'gene1': 'ATAGCAGTTAGCTTAGCAGCAGTTATAGCGCA', 'gene2': 'ATGAATGTGCCTCGAGTC', 'gene3': 'ATGAATGGGCGGTAGTCTGAC'}\n",
        "\n",
        "Tuples [('gene1', 'ATAGCAGTTAGCTTAGCAGCAGTTATAGCGCA'), ('gene2', 'ATGAATGTGCCTCGAGTC'), ('gene3', 'ATGAATGGGCGGTAGTCTGAC')]\n",
        "{'gene1': 'ATAGCAGTTAGCTTAGCAGCAGTTATAGCGCA', 'gene2': 'ATGAATGTGCCTCGAGTC', 'gene3': 'ATGAATGGGCGGTAGTCTGAC'}\n"
       ]
      }
     ],
     "prompt_number": 4
    },
    {
     "cell_type": "code",
     "collapsed": false,
     "input": [
      "# Some test input in a list. As a string since that's how user input comes in.\n",
      "test_numbers = ['0', '1', '199']\n",
      "\n",
      "for num_str in test_numbers:\n",
      "    print 'Running logic for input', num_str\n",
      "    s = int(num_str)\n",
      "    \n",
      "    # First way: long version of if/else.\n",
      "    t = 1\n",
      "    if s == 1:\n",
      "        t = 0\n",
      "    print t\n",
      "    \n",
      "    # Second way: reverse logic of above.\n",
      "    t = 0\n",
      "    if s == 0:\n",
      "        t = 1\n",
      "    print t\n",
      "    \n",
      "    # Shorter if-else\n",
      "    t = 0 if s == 1 else 1\n",
      "    print t\n",
      "    \n",
      "    # Reverse of above\n",
      "    t = 1 if s == 0 else 0\n",
      "    print t\n",
      "    \n",
      "    # Even shorter using the fact that 1 evaluates to True\n",
      "    t = 0 if s else 1\n",
      "    print t\n",
      "    \n",
      "    # Math trick with absolute values.\n",
      "    t = abs(s-1)  # gives 0 for 1 and 1 for 0.\n",
      "    print t"
     ],
     "language": "python",
     "metadata": {},
     "outputs": [
      {
       "output_type": "stream",
       "stream": "stdout",
       "text": [
        "Running logic for input 0\n",
        "1\n",
        "1\n",
        "1\n",
        "1\n",
        "1\n",
        "1\n",
        "Running logic for input 1\n",
        "0\n",
        "0\n",
        "0\n",
        "0\n",
        "0\n",
        "0\n",
        "Running logic for input 199\n",
        "1\n",
        "0\n",
        "1\n",
        "0\n",
        "0\n",
        "198\n"
       ]
      }
     ],
     "prompt_number": 5
    },
    {
     "cell_type": "code",
     "collapsed": false,
     "input": [
      "# FizzBuzz - count from 1 to 100.\n",
      "for current_number in range(1, 100):\n",
      "    # The % here is the modulo operator.\n",
      "    # It gives you the remainder when current number is divided by 3.\n",
      "    # If that's 0 the number is divisible by 3\n",
      "    three_mult = (current_number % 3) == 0\n",
      "    five_mult = (current_number % 5) == 0\n",
      "    # Multiple of both is true if both of above are true\n",
      "    both_mult = three_mult and five_mult \n",
      "    \n",
      "    if both_mult:\n",
      "        print 'FizzBuzz'\n",
      "    elif three_mult:\n",
      "        print 'Fizz'\n",
      "    elif five_mult:\n",
      "        print 'Buzz'\n",
      "    else:\n",
      "        print current_number"
     ],
     "language": "python",
     "metadata": {},
     "outputs": [
      {
       "output_type": "stream",
       "stream": "stdout",
       "text": [
        "1\n",
        "2\n",
        "Fizz\n",
        "4\n",
        "Buzz\n",
        "Fizz\n",
        "7\n",
        "8\n",
        "Fizz\n",
        "Buzz\n",
        "11\n",
        "Fizz\n",
        "13\n",
        "14\n",
        "FizzBuzz\n",
        "16\n",
        "17\n",
        "Fizz\n",
        "19\n",
        "Buzz\n",
        "Fizz\n",
        "22\n",
        "23\n",
        "Fizz\n",
        "Buzz\n",
        "26\n",
        "Fizz\n",
        "28\n",
        "29\n",
        "FizzBuzz\n",
        "31\n",
        "32\n",
        "Fizz\n",
        "34\n",
        "Buzz\n",
        "Fizz\n",
        "37\n",
        "38\n",
        "Fizz\n",
        "Buzz\n",
        "41\n",
        "Fizz\n",
        "43\n",
        "44\n",
        "FizzBuzz\n",
        "46\n",
        "47\n",
        "Fizz\n",
        "49\n",
        "Buzz\n",
        "Fizz\n",
        "52\n",
        "53\n",
        "Fizz\n",
        "Buzz\n",
        "56\n",
        "Fizz\n",
        "58\n",
        "59\n",
        "FizzBuzz\n",
        "61\n",
        "62\n",
        "Fizz\n",
        "64\n",
        "Buzz\n",
        "Fizz\n",
        "67\n",
        "68\n",
        "Fizz\n",
        "Buzz\n",
        "71\n",
        "Fizz\n",
        "73\n",
        "74\n",
        "FizzBuzz\n",
        "76\n",
        "77\n",
        "Fizz\n",
        "79\n",
        "Buzz\n",
        "Fizz\n",
        "82\n",
        "83\n",
        "Fizz\n",
        "Buzz\n",
        "86\n",
        "Fizz\n",
        "88\n",
        "89\n",
        "FizzBuzz\n",
        "91\n",
        "92\n",
        "Fizz\n",
        "94\n",
        "Buzz\n",
        "Fizz\n",
        "97\n",
        "98\n",
        "Fizz\n"
       ]
      }
     ],
     "prompt_number": 6
    },
    {
     "cell_type": "code",
     "collapsed": false,
     "input": [
      "rock = 'Rock and Roll'\n",
      "for ch in rock:\n",
      "    print ord(ch)\n",
      "\n",
      "# Option 1. can use a full loop.\n",
      "ascii_sum = 0\n",
      "for ch in rock:\n",
      "    ascii_sum += ord(ch)\n",
      "print 'Sum: ', ascii_sum\n",
      "\n",
      "# Option 2. Can use a full loop to make a list of ascii\n",
      "all_asciis = []\n",
      "for ch in rock:\n",
      "    all_asciis.append(ord(ch))\n",
      "print 'List of ASCII codes:', all_asciis\n",
      "print 'Sum: ', sum(all_asciis)\n",
      "\n",
      "# Option 3. Can use a list comprehension! much cuter\n",
      "all_asciis = [ord(ch) for ch in rock]\n",
      "print 'List of ASCII codes:', all_asciis\n",
      "print 'Sum: ', sum(all_asciis)"
     ],
     "language": "python",
     "metadata": {},
     "outputs": [
      {
       "output_type": "stream",
       "stream": "stdout",
       "text": [
        "82\n",
        "111\n",
        "99\n",
        "107\n",
        "32\n",
        "97\n",
        "110\n",
        "100\n",
        "32\n",
        "82\n",
        "111\n",
        "108\n",
        "108\n",
        "Sum:  1179\n",
        "List of ASCII codes: [82, 111, 99, 107, 32, 97, 110, 100, 32, 82, 111, 108, 108]\n",
        "Sum:  1179\n",
        "List of ASCII codes: [82, 111, 99, 107, 32, 97, 110, 100, 32, 82, 111, 108, 108]\n",
        "Sum:  1179\n"
       ]
      }
     ],
     "prompt_number": 7
    },
    {
     "cell_type": "code",
     "collapsed": false,
     "input": [
      "# Original code from the exercise\n",
      "L = [1,2,4,8,16,32,64]\n",
      "x = 5\n",
      " \n",
      "found = i = 0\n",
      "while not found and i < len(L):\n",
      "    #check if 2 to the power\n",
      "    #of x is in the list\n",
      "    if 2 ** x == L[i]:\n",
      "        found = 1\n",
      "    else:\n",
      "        i = i+1\n",
      "if found:\n",
      "    print 'at index', i\n",
      "else:\n",
      "    print x, 'not found'"
     ],
     "language": "python",
     "metadata": {},
     "outputs": [
      {
       "output_type": "stream",
       "stream": "stdout",
       "text": [
        "at index 5\n"
       ]
      }
     ],
     "prompt_number": 8
    },
    {
     "cell_type": "code",
     "collapsed": false,
     "input": [
      "# 1. while/else loop eliminating the 'found' variable\n",
      "L = [1,2,4,8,16,32,64]\n",
      "x = 5\n",
      "\n",
      "while i < len(L):\n",
      "    if 2**x == L[i]:\n",
      "        print 'at index', i\n",
      "        break\n",
      "    i += 1\n",
      "else:\n",
      "    print x, 'not found'"
     ],
     "language": "python",
     "metadata": {},
     "outputs": [
      {
       "output_type": "stream",
       "stream": "stdout",
       "text": [
        "at index 5\n"
       ]
      }
     ],
     "prompt_number": 9
    },
    {
     "cell_type": "code",
     "collapsed": false,
     "input": [
      "# 2. for/else loop with enumerate()\n",
      "L = [1,2,4,8,16,32,64]\n",
      "x = 5\n",
      "\n",
      "for i, val in enumerate(L):\n",
      "    if 2**x == val:\n",
      "        print 'at index', i\n",
      "        break\n",
      "else:\n",
      "    print x, 'not found'"
     ],
     "language": "python",
     "metadata": {},
     "outputs": [
      {
       "output_type": "stream",
       "stream": "stdout",
       "text": [
        "at index 5\n"
       ]
      }
     ],
     "prompt_number": 10
    },
    {
     "cell_type": "code",
     "collapsed": false,
     "input": [
      "# 3. no loop at all\n",
      "L = [1,2,4,8,16,32,64]\n",
      "x = 5\n",
      "power = 2**x\n",
      "if power in L:\n",
      "    print 'at index', L.index(power)\n",
      "else:\n",
      "    print x, 'not found'"
     ],
     "language": "python",
     "metadata": {},
     "outputs": [
      {
       "output_type": "stream",
       "stream": "stdout",
       "text": [
        "at index 5\n"
       ]
      }
     ],
     "prompt_number": 11
    },
    {
     "cell_type": "code",
     "collapsed": false,
     "input": [
      "# 4. Make the list using a for loop.\n",
      "L = []\n",
      "for exp in range(7):\n",
      "    L.append(2**exp)\n",
      "print L"
     ],
     "language": "python",
     "metadata": {},
     "outputs": [
      {
       "output_type": "stream",
       "stream": "stdout",
       "text": [
        "[1, 2, 4, 8, 16, 32, 64]\n"
       ]
      }
     ],
     "prompt_number": 12
    },
    {
     "cell_type": "code",
     "collapsed": false,
     "input": [
      "# 5. Make the list using a list comprehension\n",
      "L = [2**exp for exp in range(7)]\n",
      "print L"
     ],
     "language": "python",
     "metadata": {},
     "outputs": [
      {
       "output_type": "stream",
       "stream": "stdout",
       "text": [
        "[1, 2, 4, 8, 16, 32, 64]\n"
       ]
      }
     ],
     "prompt_number": 13
    },
    {
     "cell_type": "code",
     "collapsed": false,
     "input": [],
     "language": "python",
     "metadata": {},
     "outputs": []
    }
   ],
   "metadata": {}
  }
 ]
}