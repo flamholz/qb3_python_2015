{
 "metadata": {
  "name": ""
 },
 "nbformat": 3,
 "nbformat_minor": 0,
 "worksheets": [
  {
   "cells": [
    {
     "cell_type": "code",
     "collapsed": false,
     "input": [
      "# Lists.\n",
      "L = [1,2,3] + [4,5,6]  # Make the list [1,2,3,4,5,6]\n",
      "\n",
      "# Print the list, a copy of the list, an empty slice,\n",
      "# the second-to-last element and the last 2 elements as a slice.\n",
      "print L, L[:], L[:0], L[-2], L[-2:]\n",
      "\n",
      "# Reverse the list to get [6,5,4,3,2,1]\n",
      "L.reverse()\n",
      "print L\n",
      "\n",
      "# Sort the list again into ascending order [1,2,3,4,5,6]\n",
      "L.sort()\n",
      "print L\n",
      "\n",
      "# Get the index for the value 4. Should be 3. print L[idx] prints 4\n",
      "idx = L.index(4)\n",
      "print idx\n",
      "\n",
      "# Make a dictionary with keys 'a' and 'b', get the value for 'b' and print it\n",
      "print {'a':1, 'b':2}['b']\n",
      "\n",
      "# Make another dictionary with keys 'x', 'y', 'z'\n",
      "D = {'x':1, 'y':2, 'z':3}\n",
      "D['w'] = 0  # Add a key 'w' with value 0\n",
      "\n",
      "# Print the sum of 'x' and 'w' values which is 1 + 0 = 1\n",
      "print D['x'] + D['w']\n",
      "\n",
      "# Print the keys and value lists of D. Then print True\n",
      "# because the key 'z' is in the dictionary.\n",
      "print D.keys(), D.values(), D.has_key('z')"
     ],
     "language": "python",
     "metadata": {},
     "outputs": [
      {
       "output_type": "stream",
       "stream": "stdout",
       "text": [
        "[1, 2, 3, 4, 5, 6] [1, 2, 3, 4, 5, 6] [] 5 [5, 6]\n",
        "[6, 5, 4, 3, 2, 1]\n",
        "[1, 2, 3, 4, 5, 6]\n",
        "3\n",
        "2\n",
        "1\n",
        "['y', 'x', 'z', 'w'] [2, 1, 3, 0] True\n"
       ]
      }
     ],
     "prompt_number": 26
    },
    {
     "cell_type": "code",
     "collapsed": false,
     "input": [
      "# Make the lists of TAs and teachers. \n",
      "TAS = ['Avi', 'Gavin', 'Christopher', 'David', 'Jeffery']\n",
      "teachers = ['Aisha', 'James', 'Melinda', 'Fernando', 'Courtney']"
     ],
     "language": "python",
     "metadata": {},
     "outputs": [],
     "prompt_number": 27
    },
    {
     "cell_type": "code",
     "collapsed": false,
     "input": [
      "print len(TAS)\n",
      "TAS[10]  # Only 5 TAS, so getting index 10 results in an error."
     ],
     "language": "python",
     "metadata": {},
     "outputs": [
      {
       "ename": "IndexError",
       "evalue": "list index out of range",
       "output_type": "pyerr",
       "traceback": [
        "\u001b[0;31m---------------------------------------------------------------------------\u001b[0m\n\u001b[0;31mIndexError\u001b[0m                                Traceback (most recent call last)",
        "\u001b[0;32m<ipython-input-28-e6a1626d3a74>\u001b[0m in \u001b[0;36m<module>\u001b[0;34m()\u001b[0m\n\u001b[1;32m      1\u001b[0m \u001b[0;32mprint\u001b[0m \u001b[0mlen\u001b[0m\u001b[0;34m(\u001b[0m\u001b[0mTAS\u001b[0m\u001b[0;34m)\u001b[0m\u001b[0;34m\u001b[0m\u001b[0m\n\u001b[0;32m----> 2\u001b[0;31m \u001b[0mTAS\u001b[0m\u001b[0;34m[\u001b[0m\u001b[0;36m10\u001b[0m\u001b[0;34m]\u001b[0m  \u001b[0;31m# Only 5 TAS, so getting index 10 results in an error.\u001b[0m\u001b[0;34m\u001b[0m\u001b[0m\n\u001b[0m",
        "\u001b[0;31mIndexError\u001b[0m: list index out of range"
       ]
      },
      {
       "output_type": "stream",
       "stream": "stdout",
       "text": [
        "5\n"
       ]
      }
     ],
     "prompt_number": 28
    },
    {
     "cell_type": "code",
     "collapsed": false,
     "input": [
      "# Slicing indices outside the list range is allowed.\n",
      "print TAS[100:110]  # This just gives an empty list\n",
      "\n",
      "# Slices from 2 to the last element in the list since\n",
      "# this one doesn't go to 11.\n",
      "print TAS[2:11]     "
     ],
     "language": "python",
     "metadata": {},
     "outputs": [
      {
       "output_type": "stream",
       "stream": "stdout",
       "text": [
        "[]\n",
        "['Christopher', 'David', 'Jeffery']\n"
       ]
      }
     ],
     "prompt_number": 29
    },
    {
     "cell_type": "code",
     "collapsed": false,
     "input": [
      "print TAS[3:1]    # Returns the empty list\n",
      "TAS[3:1] = ['?']  # Confusingly, sets the inserts '?' at the 4th position.\n",
      "print TAS"
     ],
     "language": "python",
     "metadata": {},
     "outputs": [
      {
       "output_type": "stream",
       "stream": "stdout",
       "text": [
        "[]\n",
        "['Avi', 'Gavin', 'Christopher', '?', 'David', 'Jeffery']\n"
       ]
      }
     ],
     "prompt_number": 30
    },
    {
     "cell_type": "code",
     "collapsed": false,
     "input": [
      "# Reset the lists of TAs and teachers to original lists.\n",
      "TAS = ['Avi', 'Gavin', 'Christopher', 'David', 'Jeffery']\n",
      "teachers = ['Aisha', 'James', 'Melinda', 'Fernando', 'Courtney']\n",
      "\n",
      "# Insert my name in the middle using indexing\n",
      "TAS[2:2] = ['Jane Doe']\n",
      "print TAS\n",
      "\n",
      "# Insert someone elses name in the middle using insert.\n",
      "TAS.insert(3, 'John Smith')\n",
      "print TAS"
     ],
     "language": "python",
     "metadata": {},
     "outputs": [
      {
       "output_type": "stream",
       "stream": "stdout",
       "text": [
        "['Avi', 'Gavin', 'Jane Doe', 'Christopher', 'David', 'Jeffery']\n",
        "['Avi', 'Gavin', 'Jane Doe', 'John Smith', 'Christopher', 'David', 'Jeffery']\n"
       ]
      }
     ],
     "prompt_number": 38
    },
    {
     "cell_type": "code",
     "collapsed": false,
     "input": [
      "# Dictionaries."
     ],
     "language": "python",
     "metadata": {},
     "outputs": []
    }
   ],
   "metadata": {}
  }
 ]
}