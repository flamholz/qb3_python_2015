{
 "metadata": {
  "name": ""
 },
 "nbformat": 3,
 "nbformat_minor": 0,
 "worksheets": [
  {
   "cells": [
    {
     "cell_type": "code",
     "collapsed": false,
     "input": [
      "def print_xplus2(x):\n",
      "    \"\"\"Prints input x + 2.\"\"\"\n",
      "    print x + 2\n",
      "\n",
      "print_xplus2(1)   # prints 3\n",
      "print_xplus2(-10) # prints -8\n",
      "\n",
      "# Loop should print -1, 1, 3, 5, 7\n",
      "for x in range(-3, 6, 2):\n",
      "    print_xplus2(x)"
     ],
     "language": "python",
     "metadata": {},
     "outputs": [
      {
       "output_type": "stream",
       "stream": "stdout",
       "text": [
        "3\n",
        "-8\n",
        "-1\n",
        "1\n",
        "3\n",
        "5\n",
        "7\n"
       ]
      }
     ],
     "prompt_number": 1
    },
    {
     "cell_type": "code",
     "collapsed": false,
     "input": [
      "def print_xtimesy(x, y):\n",
      "    \"\"\"Prints x * y\"\"\"\n",
      "    print x * y\n",
      "\n",
      "print_xtimesy(1, 1)  # prints 1\n",
      "print_xtimesy(1, 0)  # prints 0\n",
      "print_xtimesy(10, 1.9)  # prints 19.0\n",
      "print_xtimesy(-3, 2.2)  # prints -6.6\n",
      "\n",
      "print\n",
      "print 'Testing with zipped ranges' \n",
      "for x, y in zip(range(4), range(-4, 1)):\n",
      "    print 'x, y = (%s, %s)' % (x, y)\n",
      "    print 'x * y =',\n",
      "    print_xtimesy(x, y)"
     ],
     "language": "python",
     "metadata": {},
     "outputs": [
      {
       "output_type": "stream",
       "stream": "stdout",
       "text": [
        "1\n",
        "0\n",
        "19.0\n",
        "-6.6\n",
        "\n",
        "Testing with zipped ranges\n",
        "x, y = (0, -4)\n",
        "x * y = 0\n",
        "x, y = (1, -3)\n",
        "x * y = -3\n",
        "x, y = (2, -2)\n",
        "x * y = -4\n",
        "x, y = (3, -1)\n",
        "x * y = -3\n"
       ]
      }
     ],
     "prompt_number": 2
    },
    {
     "cell_type": "code",
     "collapsed": false,
     "input": [
      "def print_first_times_second(xs):\n",
      "    \"\"\"Prints first element of xs times second.\"\"\"\n",
      "    print xs[0] * xs[1]\n",
      "\n",
      "print_first_times_second([1, 1])  # prints 1\n",
      "print_first_times_second([1, 0])  # prints 0\n",
      "print_first_times_second([10, 1.9])  # prints 19.0\n",
      "print_first_times_second([-3, 2.2])  # prints -6.6\n",
      "# Doesn't matter how many elements in xs.\n",
      "print_first_times_second([-3, 2.2, 3.1415])  # prints -6.6\n",
      "print_first_times_second([-3, 2.2, -2, 11, 3912.22])  # prints -6.6\n",
      "\n",
      "# Unless there are < 2 elements or it . The statements below would fail.\n",
      "# print_first_times_second([-3])\n",
      "# print_first_times_second([])\n",
      "# print_first_times_second(2)\n",
      "# print_first_times_second({})\n"
     ],
     "language": "python",
     "metadata": {},
     "outputs": [
      {
       "output_type": "stream",
       "stream": "stdout",
       "text": [
        "1\n",
        "0\n",
        "19.0\n",
        "-6.6\n",
        "-6.6\n",
        "-6.6\n"
       ]
      }
     ],
     "prompt_number": 3
    },
    {
     "cell_type": "code",
     "collapsed": false,
     "input": [
      "# Returning instead of printing.\n",
      "# I'll only give one example since they are all the same.\n",
      "def xtimesy(x, y):\n",
      "    \"\"\"returns x * y\"\"\"\n",
      "    return x * y\n",
      "\n",
      "# We can now store the result of the function in a valiable OUTSIDE\n",
      "# of the scope of the function itself. \n",
      "v = xtimesy(1, 1)  # prints 1\n",
      "print v\n",
      "# We can also do some math with v now.\n",
      "w = v**2/9\n",
      "print 'v*v / 9'\n",
      "print w\n",
      "\n",
      "# We can also use the print statement to print the result of the\n",
      "# function directly without storing it.\n",
      "print xtimesy(1, 1)  # prints 1\n",
      "print xtimesy(1, 0)  # prints 0\n",
      "print xtimesy(10, 1.9)  # prints 19.0\n",
      "print xtimesy(-3, 2.2)  # prints -6.6"
     ],
     "language": "python",
     "metadata": {},
     "outputs": [
      {
       "output_type": "stream",
       "stream": "stdout",
       "text": [
        "1\n",
        "v*v / 9\n",
        "0\n",
        "1\n",
        "0\n",
        "19.0\n",
        "-6.6\n"
       ]
      }
     ],
     "prompt_number": 4
    },
    {
     "cell_type": "code",
     "collapsed": false,
     "input": [
      "def inc(x):\n",
      "    x += 1\n",
      "\n",
      "def xfirst(l):\n",
      "    l[0] = 'x'\n",
      "    \n",
      "def addx_todict(d):\n",
      "    d['x'] = 'y'\n",
      "    \n",
      "# notice how calling inc() did not modify our \n",
      "# variable x which was defined outside the function\n",
      "# this is because integers are *immutable*\n",
      "print 'testing inc()'\n",
      "x = 9\n",
      "print x\n",
      "inc(x)\n",
      "print x\n",
      "\n",
      "# notice how calling the function modified the list.\n",
      "# this is because lists are *mutable*\n",
      "print 'testing xfirst()'\n",
      "my_list = [1,2,3,4]\n",
      "print my_list\n",
      "xfirst(my_list)\n",
      "print my_list\n",
      "\n",
      "# notice how calling the function modified the dict.\n",
      "# this is because dictionaries are *mutable*\n",
      "print 'testing xfirst()'\n",
      "my_dict = {'human_genes':20000, 'coli_genes':4000}\n",
      "print my_dict\n",
      "addx_todict(my_dict)\n",
      "print my_dict"
     ],
     "language": "python",
     "metadata": {},
     "outputs": [
      {
       "output_type": "stream",
       "stream": "stdout",
       "text": [
        "testing inc()\n",
        "9\n",
        "9\n",
        "testing xfirst()\n",
        "[1, 2, 3, 4]\n",
        "['x', 2, 3, 4]\n",
        "testing xfirst()\n",
        "{'coli_genes': 4000, 'human_genes': 20000}\n",
        "{'x': 'y', 'coli_genes': 4000, 'human_genes': 20000}\n"
       ]
      }
     ],
     "prompt_number": 5
    },
    {
     "cell_type": "code",
     "collapsed": false,
     "input": [
      "# Reverse complementation of sequences.\n",
      "# Dictionary mapping bases to their Watson-Crick pairing partners.\n",
      "COMPLEMENTS = {'N': 'N',\n",
      "               'A': 'T',\n",
      "               'C': 'G',\n",
      "               'G': 'C',\n",
      "               'T': 'A'}\n",
      "# Get the set of base characters allowed from the keys of the dict.\n",
      "ALLOWED_BASES = set(COMPLEMENTS.keys())\n",
      "\n",
      "def reverse_comp(seq):\n",
      "    upper_seq = seq.upper()  # upper case\n",
      "    upper_bases = set(upper_seq)\n",
      "    if not ALLOWED_BASES.issuperset(upper_bases):\n",
      "        print 'Unknown bases in', seq\n",
      "        return\n",
      "    \n",
      "    complemented = [COMPLEMENTS[c] for c in upper_seq]\n",
      "    complemented.reverse()\n",
      "    return ''.join(complemented)\n",
      "\n",
      "# Try a couple DNA sequences.\n",
      "print reverse_comp('ATGCATTATATAT')\n",
      "print reverse_comp('NNNNNNNNNTGC')  # bad sequencing result\n",
      "print reverse_comp('CAGTANCTNGGCATAT')\n",
      "\n",
      "# accidentally used a protein sequence - should fail\n",
      "reverse_comp('QGSVKLLY') \n",
      "\n",
      "# accidentally used a poem by emily dickinson - should fail\n",
      "s = \"\"\"\n",
      "\u201cHope\u201d is the thing with feathers -\n",
      "That perches in the soul -\n",
      "And sings the tune without the words -\n",
      "And never stops - at all -\"\"\"\n",
      "reverse_comp(s) "
     ],
     "language": "python",
     "metadata": {},
     "outputs": [
      {
       "output_type": "stream",
       "stream": "stdout",
       "text": [
        "ATATATAATGCAT\n",
        "GCANNNNNNNNN\n",
        "ATATGCCNAGNTACTG\n",
        "Unknown bases in QGSVKLLY\n",
        "Unknown bases in \n",
        "\u201cHope\u201d is the thing with feathers -\n",
        "That perches in the soul -\n",
        "And sings the tune without the words -\n",
        "And never stops - at all -\n"
       ]
      }
     ],
     "prompt_number": 6
    },
    {
     "cell_type": "code",
     "collapsed": false,
     "input": [
      "# Use the version in my exercises module\n",
      "import sequence_tools\n",
      "\n",
      "# Try a couple DNA sequences.\n",
      "print sequence_tools.reverse_comp('ATGCATTATATAT')\n",
      "print sequence_tools.reverse_comp('NNNNNNNNNTGC')  # bad sequencing result\n",
      "print sequence_tools.reverse_comp('CAGTANCTNGGCATAT')"
     ],
     "language": "python",
     "metadata": {},
     "outputs": [
      {
       "output_type": "stream",
       "stream": "stdout",
       "text": [
        "ATATATAATGCAT\n",
        "GCANNNNNNNNN\n",
        "ATATGCCNAGNTACTG\n"
       ]
      }
     ],
     "prompt_number": 7
    },
    {
     "cell_type": "code",
     "collapsed": false,
     "input": [
      "import sequence_tools\n",
      "fasta_dict = sequence_tools.parse_fasta('seq.fasta')\n",
      "gene3 = fasta_dict['gene3']\n",
      "print 'gene3:'\n",
      "print gene3\n",
      "print 'gene3 reverse complemented:'\n",
      "print sequence_tools.reverse_comp(gene3)"
     ],
     "language": "python",
     "metadata": {},
     "outputs": [
      {
       "output_type": "stream",
       "stream": "stdout",
       "text": [
        "gene3:\n",
        "TTATGGCACCCACTAGAGCCAGATTATTTTAAA\n",
        "gene3 reverse complemented:\n",
        "TTTAAAATAATCTGGCTCTAGTGGGTGCCATAA\n"
       ]
      }
     ],
     "prompt_number": 8
    },
    {
     "cell_type": "code",
     "collapsed": false,
     "input": [
      "def find_longest_orf(seq):\n",
      "    \"\"\"Finds the longest ORF in the sequence.\n",
      "    \n",
      "    ORF goes from ATG to an in-frame TAA, TAG or TGA.\n",
      "    \n",
      "    Returns a 2-tuple of the index of the first base of ATG \n",
      "    and the first base of the stop codon. \n",
      "    \"\"\"\n",
      "    # Could you edit this code to find all of the ORFs in the \n",
      "    # sequence instead of just the longest one?\n",
      "    seq_upper = seq.upper()\n",
      "    start_idx = seq_upper.find('ATG')\n",
      "    if start_idx == -1:\n",
      "        return -1, -1\n",
      "    start_frame = start_idx % 3\n",
      "    \n",
      "    taa_idx = seq_upper.rfind('TAA')\n",
      "    taa_frame = taa_idx % 3\n",
      "    \n",
      "    tag_idx = seq_upper.rfind('TAG')\n",
      "    tag_frame = tag_idx % 3\n",
      "    \n",
      "    tga_idx = seq_upper.rfind('TGA')\n",
      "    tga_frame = tga_idx % 3\n",
      "    \n",
      "    end_idx = -1\n",
      "    end_idxs = [taa_idx, tag_idx, tga_idx]\n",
      "    for idx in end_idxs:\n",
      "        frame = idx % 3\n",
      "        if frame == start_frame and idx > end_idx:\n",
      "            end_idx = idx\n",
      "    \n",
      "    if start_idx > end_idx:\n",
      "        return -1, -1\n",
      "    return start_idx, end_idx\n",
      "\n",
      "def get_longest_orf(seq):\n",
      "    \"\"\"Gets the sequence of the ORF from this sequence.\n",
      "    \n",
      "    Calls find_longest_orf to get the index of the start \n",
      "    and stop codons. \n",
      "    \"\"\"\n",
      "    start_idx, end_idx = find_longest_orf(seq)\n",
      "    if start_idx == -1 or end_idx == -1:\n",
      "        return ''\n",
      "    return seq[start_idx: end_idx+3]\n",
      "\n",
      "def get_orf_dict(fasta_dict):\n",
      "    \"\"\"Converts a dictionary of sequences into a dictionary of ORFs.\"\"\"\n",
      "    d = {}\n",
      "    for gene_name, gene_seq in fasta_dict.iteritems():\n",
      "        d[gene_name] = get_longest_orf(gene_seq)\n",
      "    return d\n",
      "\n",
      "print get_orf_dict(fasta_dict)"
     ],
     "language": "python",
     "metadata": {},
     "outputs": [
      {
       "output_type": "stream",
       "stream": "stdout",
       "text": [
        "{'gene1': 'ATGAGACGTAGTGCCAGTAGCGCGATGTAG', 'gene2': 'ATGTTCGACGCATACGACGCGCAGTACCAGCAATGA', 'gene3': 'ATGGCACCCACTAGAGCCAGATTATTTTAA'}\n"
       ]
      }
     ],
     "prompt_number": 9
    },
    {
     "cell_type": "code",
     "collapsed": false,
     "input": [],
     "language": "python",
     "metadata": {},
     "outputs": []
    }
   ],
   "metadata": {}
  }
 ]
}